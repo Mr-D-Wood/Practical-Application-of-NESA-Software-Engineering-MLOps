{
 "cells": [
  {
   "cell_type": "markdown",
   "metadata": {},
   "source": [
    "[Home](../../README.md)\n",
    "\n",
    "### Data Wrangling\n",
    "\n",
    "This is a demonstration of data wrangling using [Pandas](https://pandas.pydata.org/) the library for data analysis and manipulation.\n",
    "\n",
    "This Jupyter Notepad demonstrates different processes you can apply to your data to prepare it for feature engineering and model training. For this demonstration we will wrangle the diabetes data set you previewed in the last Jupyter Notebook.\n",
    "\n",
    "> [!Note]\n",
    "> None of these processes are destructive to the source CSV as long as you save the modified data to a new CSV."
   ]
  },
  {
   "cell_type": "markdown",
   "metadata": {},
   "source": [
    "#### Load the required dependencies"
   ]
  },
  {
   "cell_type": "code",
   "execution_count": 1,
   "metadata": {},
   "outputs": [],
   "source": [
    "# Import frameworks\n",
    "import pandas as pd"
   ]
  },
  {
   "cell_type": "markdown",
   "metadata": {},
   "source": [
    "####  Store the data as a local variable\n",
    "\n",
    "The data frame is a Pandas object that structures your tabular data into an appropriate format. It loads the complete data in memory so it is now ready for preprocessing."
   ]
  },
  {
   "cell_type": "code",
   "execution_count": 2,
   "metadata": {},
   "outputs": [],
   "source": [
    "data_frame = pd.read_csv(\"2.1.2.diabeties_sample_data.csv\")"
   ]
  },
  {
   "cell_type": "markdown",
   "metadata": {},
   "source": [
    "#### Dealing with null values\n",
    "\n",
    "Null values during data analysis can cause runtime errors and unexpected results. It is important to identify null values and deal with them appropriately before training a model.\n",
    "\n",
    "The `isnull().sum()` method call returns the null values in any column."
   ]
  },
  {
   "cell_type": "code",
   "execution_count": 3,
   "metadata": {},
   "outputs": [
    {
     "data": {
      "application/vnd.microsoft.datawrangler.viewer.v0+json": {
       "columns": [
        {
         "name": "index",
         "rawType": "object",
         "type": "string"
        },
        {
         "name": "0",
         "rawType": "int64",
         "type": "integer"
        }
       ],
       "ref": "db661259-2bb5-4170-91b9-9ff79e6c153a",
       "rows": [
        [
         "DoB",
         "0"
        ],
        [
         "DoT",
         "0"
        ],
        [
         "SEX",
         "1"
        ],
        [
         "BMI",
         "0"
        ],
        [
         "BP",
         "0"
        ],
        [
         "TC",
         "0"
        ],
        [
         "BGU",
         "0"
        ],
        [
         "FDR",
         "0"
        ],
        [
         "Target",
         "1"
        ]
       ],
       "shape": {
        "columns": 1,
        "rows": 9
       }
      },
      "text/plain": [
       "DoB       0\n",
       "DoT       0\n",
       "SEX       1\n",
       "BMI       0\n",
       "BP        0\n",
       "TC        0\n",
       "BGU       0\n",
       "FDR       0\n",
       "Target    1\n",
       "dtype: int64"
      ]
     },
     "execution_count": 3,
     "metadata": {},
     "output_type": "execute_result"
    }
   ],
   "source": [
    "data_frame.isnull().sum()"
   ]
  },
  {
   "cell_type": "markdown",
   "metadata": {},
   "source": [
    "If you have null data there are many ways to deal with the empty/null values. These are the two most common approaches.\n",
    "1. Remove any row with a null value with a `dropna()` method call.\n",
    "2. Replace missing values with another value with a `fillna()` method call. Generally, we use mean value for numerical columns because it may cause minimal changes in your mathematical analysis while maintaining the original size of the data.\n",
    "\n",
    "Students should reflect why this example removes the null 'SEX' but replacing the mean 'Target'?"
   ]
  },
  {
   "cell_type": "code",
   "execution_count": 4,
   "metadata": {},
   "outputs": [
    {
     "data": {
      "application/vnd.microsoft.datawrangler.viewer.v0+json": {
       "columns": [
        {
         "name": "index",
         "rawType": "object",
         "type": "string"
        },
        {
         "name": "0",
         "rawType": "int64",
         "type": "integer"
        }
       ],
       "ref": "ca063c86-6366-4585-a01c-6796562e37ad",
       "rows": [
        [
         "DoB",
         "0"
        ],
        [
         "DoT",
         "0"
        ],
        [
         "SEX",
         "0"
        ],
        [
         "BMI",
         "0"
        ],
        [
         "BP",
         "0"
        ],
        [
         "TC",
         "0"
        ],
        [
         "BGU",
         "0"
        ],
        [
         "FDR",
         "0"
        ],
        [
         "Target",
         "1"
        ]
       ],
       "shape": {
        "columns": 1,
        "rows": 9
       }
      },
      "text/plain": [
       "DoB       0\n",
       "DoT       0\n",
       "SEX       0\n",
       "BMI       0\n",
       "BP        0\n",
       "TC        0\n",
       "BGU       0\n",
       "FDR       0\n",
       "Target    1\n",
       "dtype: int64"
      ]
     },
     "execution_count": 4,
     "metadata": {},
     "output_type": "execute_result"
    }
   ],
   "source": [
    "# Remove Null values\n",
    "data_frame = data_frame.dropna(subset=['SEX'])\n",
    "data_frame.isnull().sum()"
   ]
  },
  {
   "cell_type": "code",
   "execution_count": 5,
   "metadata": {},
   "outputs": [
    {
     "data": {
      "application/vnd.microsoft.datawrangler.viewer.v0+json": {
       "columns": [
        {
         "name": "index",
         "rawType": "object",
         "type": "string"
        },
        {
         "name": "0",
         "rawType": "int64",
         "type": "integer"
        }
       ],
       "ref": "d7fc4801-139a-4b47-927a-ffc0dc8909ba",
       "rows": [
        [
         "DoB",
         "0"
        ],
        [
         "DoT",
         "0"
        ],
        [
         "SEX",
         "0"
        ],
        [
         "BMI",
         "0"
        ],
        [
         "BP",
         "0"
        ],
        [
         "TC",
         "0"
        ],
        [
         "BGU",
         "0"
        ],
        [
         "FDR",
         "0"
        ],
        [
         "Target",
         "0"
        ]
       ],
       "shape": {
        "columns": 1,
        "rows": 9
       }
      },
      "text/plain": [
       "DoB       0\n",
       "DoT       0\n",
       "SEX       0\n",
       "BMI       0\n",
       "BP        0\n",
       "TC        0\n",
       "BGU       0\n",
       "FDR       0\n",
       "Target    0\n",
       "dtype: int64"
      ]
     },
     "execution_count": 5,
     "metadata": {},
     "output_type": "execute_result"
    }
   ],
   "source": [
    "# Replace Null values with the mean value for the column\n",
    "data_frame['Target'] = data_frame['Target'].fillna(data_frame['Target'].mean())\n",
    "data_frame.isnull().sum()"
   ]
  },
  {
   "cell_type": "markdown",
   "metadata": {},
   "source": [
    "#### Remove Duplicates\n",
    "\n",
    "Duplicate data can have detrimental effects on your machine learning models and outcomes, such as reducing data diversity and representativeness, which can lead to overfitting or biased models.\n",
    "\n",
    "The `duplicated().sum()` method call returns the count of duplicate rows in the data frame."
   ]
  },
  {
   "cell_type": "code",
   "execution_count": 6,
   "metadata": {},
   "outputs": [
    {
     "data": {
      "text/plain": [
       "np.int64(5)"
      ]
     },
     "execution_count": 6,
     "metadata": {},
     "output_type": "execute_result"
    }
   ],
   "source": [
    "data_frame.duplicated().sum()"
   ]
  },
  {
   "cell_type": "markdown",
   "metadata": {},
   "source": [
    "The `drop_duplicates()` method call can be then stored back onto the data_frame variable removing the duplicates."
   ]
  },
  {
   "cell_type": "code",
   "execution_count": 7,
   "metadata": {},
   "outputs": [
    {
     "data": {
      "text/plain": [
       "np.int64(0)"
      ]
     },
     "execution_count": 7,
     "metadata": {},
     "output_type": "execute_result"
    }
   ],
   "source": [
    "data_frame = data_frame.drop_duplicates()\n",
    "data_frame.duplicated().sum()"
   ]
  },
  {
   "cell_type": "markdown",
   "metadata": {},
   "source": [
    "#### Replace data\n",
    "\n",
    "We can run a lambda function on a column to modify its values. For a simple example, let’s convert the Sex to lowercase. To run a function over a complete column, we can use the apply method which iterates over each row and modifies the values."
   ]
  },
  {
   "cell_type": "code",
   "execution_count": 8,
   "metadata": {},
   "outputs": [
    {
     "data": {
      "application/vnd.microsoft.datawrangler.viewer.v0+json": {
       "columns": [
        {
         "name": "index",
         "rawType": "int64",
         "type": "integer"
        },
        {
         "name": "SEX",
         "rawType": "object",
         "type": "string"
        }
       ],
       "ref": "82ef423c-56d3-43d6-98ed-4387486a168a",
       "rows": [
        [
         "0",
         "female"
        ],
        [
         "1",
         "female"
        ],
        [
         "2",
         "male"
        ],
        [
         "3",
         "male"
        ],
        [
         "4",
         "male"
        ]
       ],
       "shape": {
        "columns": 1,
        "rows": 5
       }
      },
      "text/plain": [
       "0    female\n",
       "1    female\n",
       "2      male\n",
       "3      male\n",
       "4      male\n",
       "Name: SEX, dtype: object"
      ]
     },
     "execution_count": 8,
     "metadata": {},
     "output_type": "execute_result"
    }
   ],
   "source": [
    "data_frame['SEX'] = data_frame['SEX'].apply(lambda x: x.lower())\n",
    "data_frame['SEX'].head()"
   ]
  },
  {
   "cell_type": "markdown",
   "metadata": {},
   "source": [
    "We can check that there are no data entry errors by the `unique()` method call."
   ]
  },
  {
   "cell_type": "code",
   "execution_count": 9,
   "metadata": {},
   "outputs": [
    {
     "data": {
      "text/plain": [
       "array(['female', 'male', 'girl'], dtype=object)"
      ]
     },
     "execution_count": 9,
     "metadata": {},
     "output_type": "execute_result"
    }
   ],
   "source": [
    "data_frame['SEX'].unique()"
   ]
  },
  {
   "cell_type": "code",
   "execution_count": 10,
   "metadata": {},
   "outputs": [
    {
     "data": {
      "text/plain": [
       "array(['female', 'male'], dtype=object)"
      ]
     },
     "execution_count": 10,
     "metadata": {},
     "output_type": "execute_result"
    }
   ],
   "source": [
    "data_frame['SEX'] = data_frame['SEX'].apply(lambda gender: 'male' if gender.lower() == 'male' else 'female')\n",
    "data_frame['SEX'].unique()"
   ]
  },
  {
   "cell_type": "markdown",
   "metadata": {},
   "source": [
    "#### Remove outliers\n",
    "\n",
    "Outliers can skew your analysis on numerical columns, and it is important to remove them. We can use the 25th and 75th quartile on numerical data, to get the inter-quartile range. This allows us to estimate an acceptable range, and we can then filter out any values outside this range. Mathematically, outliers are values occurring outside 1.5 times the interquartile range (IQR) from the first quartile (Q1) or third quartile (Q3)."
   ]
  },
  {
   "cell_type": "code",
   "execution_count": 11,
   "metadata": {},
   "outputs": [
    {
     "name": "stdout",
     "output_type": "stream",
     "text": [
      "count    442.000000\n",
      "mean      94.687738\n",
      "std       14.224409\n",
      "min       51.000000\n",
      "25%       84.000000\n",
      "50%       93.000000\n",
      "75%      105.000000\n",
      "max      141.000000\n",
      "Name: BP, dtype: float64\n",
      "Outliers are a BP above 136.5 or below 52.5\n"
     ]
    }
   ],
   "source": [
    "#get the inter-quartile range on the blood pressure column\n",
    "#get the inter-quartile range on the BP column\n",
    "print(data_frame['BP'].describe())\n",
    "Q1 = data_frame['BP'].quantile(0.25)\n",
    "Q3 = data_frame['BP'].quantile(0.75)\n",
    "IQR = Q3 - Q1\n",
    "print(f'Outliers are a BP above {Q3 + IQR * 1.5} or below {Q1 - IQR * 1.5}')\n"
   ]
  },
  {
   "cell_type": "code",
   "execution_count": 12,
   "metadata": {},
   "outputs": [
    {
     "name": "stdout",
     "output_type": "stream",
     "text": [
      "count    439.000000\n",
      "mean      94.583098\n",
      "std       13.790260\n",
      "min       62.000000\n",
      "25%       84.000000\n",
      "50%       93.000000\n",
      "75%      105.000000\n",
      "max      133.000000\n",
      "Name: BP, dtype: float64\n"
     ]
    }
   ],
   "source": [
    "# Filter blood pressure within the acceptable range\n",
    "data_frame = data_frame[(data_frame['BP'] >= Q1 - 1.5 * IQR) & (data_frame['BP'] <= Q3 + 1.5 * IQR)]\n",
    "print(data_frame['BP'].describe())"
   ]
  },
  {
   "cell_type": "code",
   "execution_count": 13,
   "metadata": {},
   "outputs": [
    {
     "name": "stdout",
     "output_type": "stream",
     "text": [
      "count    439.000000\n",
      "mean      26.361276\n",
      "std        4.428303\n",
      "min       18.000000\n",
      "25%       23.150000\n",
      "50%       25.700000\n",
      "75%       29.250000\n",
      "max       42.200000\n",
      "Name: BMI, dtype: float64\n",
      "Outliers are a BMI above 38.400000000000006 or below 13.999999999999996\n"
     ]
    }
   ],
   "source": [
    "#get the inter-quartile range on the BP column\n",
    "print(data_frame['BMI'].describe())\n",
    "Q1 = data_frame['BMI'].quantile(0.25)\n",
    "Q3 = data_frame['BMI'].quantile(0.75)\n",
    "IQR = Q3 - Q1\n",
    "print(f'Outliers are a BMI above {Q3 + IQR * 1.5} or below {Q1 - IQR * 1.5}')"
   ]
  },
  {
   "cell_type": "code",
   "execution_count": 14,
   "metadata": {},
   "outputs": [
    {
     "name": "stdout",
     "output_type": "stream",
     "text": [
      "count    436.000000\n",
      "mean      26.261468\n",
      "std        4.274617\n",
      "min       18.000000\n",
      "25%       23.100000\n",
      "50%       25.700000\n",
      "75%       29.200000\n",
      "max       38.300000\n",
      "Name: BMI, dtype: float64\n"
     ]
    }
   ],
   "source": [
    "# Filter BMI within the acceptable range\n",
    "data_frame = data_frame[(data_frame['BMI'] >= Q1 - 1.5 * IQR) & (data_frame['BMI'] <= Q3 + 1.5 * IQR)]\n",
    "print(data_frame['BMI'].describe())"
   ]
  },
  {
   "cell_type": "code",
   "execution_count": 15,
   "metadata": {},
   "outputs": [
    {
     "name": "stdout",
     "output_type": "stream",
     "text": [
      "count    436.000000\n",
      "mean      91.224771\n",
      "std       11.511511\n",
      "min       58.000000\n",
      "25%       83.000000\n",
      "50%       91.000000\n",
      "75%       98.000000\n",
      "max      124.000000\n",
      "Name: BGU, dtype: float64\n",
      "Outliers are a BGU above 120.5 or below 60.5\n"
     ]
    }
   ],
   "source": [
    "#get the inter-quartile range on the BP column\n",
    "print(data_frame['BGU'].describe())\n",
    "Q1 = data_frame['BGU'].quantile(0.25)\n",
    "Q3 = data_frame['BGU'].quantile(0.75)\n",
    "IQR = Q3 - Q1\n",
    "print(f'Outliers are a BGU above {Q3 + IQR * 1.5} or below {Q1 - IQR * 1.5}')"
   ]
  },
  {
   "cell_type": "code",
   "execution_count": 16,
   "metadata": {},
   "outputs": [
    {
     "name": "stdout",
     "output_type": "stream",
     "text": [
      "count    427.000000\n",
      "mean      90.997658\n",
      "std       10.656722\n",
      "min       66.000000\n",
      "25%       83.500000\n",
      "50%       91.000000\n",
      "75%       98.000000\n",
      "max      120.000000\n",
      "Name: BGU, dtype: float64\n"
     ]
    }
   ],
   "source": [
    "# Filter BMI within the acceptable range\n",
    "data_frame = data_frame[(data_frame['BGU'] >= Q1 - 1.5 * IQR) & (data_frame['BGU'] <= Q3 + 1.5 * IQR)]\n",
    "print(data_frame['BGU'].describe())"
   ]
  },
  {
   "cell_type": "markdown",
   "metadata": {},
   "source": [
    "#### Scaling features to a common range\n",
    "\n",
    "Scaling the features makes it easier for machine learning algorithms to find the optimal solution, as the different scales of the features do not influence them."
   ]
  },
  {
   "cell_type": "code",
   "execution_count": 17,
   "metadata": {},
   "outputs": [
    {
     "data": {
      "application/vnd.microsoft.datawrangler.viewer.v0+json": {
       "columns": [
        {
         "name": "index",
         "rawType": "object",
         "type": "string"
        },
        {
         "name": "BMI",
         "rawType": "float64",
         "type": "float"
        },
        {
         "name": "BP",
         "rawType": "float64",
         "type": "float"
        },
        {
         "name": "TC",
         "rawType": "float64",
         "type": "float"
        },
        {
         "name": "BGU",
         "rawType": "float64",
         "type": "float"
        },
        {
         "name": "FDR",
         "rawType": "float64",
         "type": "float"
        },
        {
         "name": "Target",
         "rawType": "float64",
         "type": "float"
        }
       ],
       "ref": "620b9a8a-6538-490f-a9df-332a38dc6bd6",
       "rows": [
        [
         "count",
         "427.0",
         "427.0",
         "427.0",
         "427.0",
         "427.0",
         "427.0"
        ],
        [
         "mean",
         "26.228571428571428",
         "0.4656558754649401",
         "4.042224824355972",
         "90.9976580796253",
         "1.063231850117096",
         "149.86958759097257"
        ],
        [
         "std",
         "4.245929127008142",
         "0.1601997122587422",
         "1.2769827503300586",
         "10.656721925717347",
         "0.8297473172228927",
         "75.81945852812956"
        ],
        [
         "min",
         "18.0",
         "0.08235294117647059",
         "2.0",
         "66.0",
         "0.0",
         "25.0"
        ],
        [
         "25%",
         "23.15",
         "0.34705882352941175",
         "3.0",
         "83.5",
         "0.0",
         "85.5"
        ],
        [
         "50%",
         "25.7",
         "0.4470588235294118",
         "4.0",
         "91.0",
         "1.0",
         "139.0"
        ],
        [
         "75%",
         "29.1",
         "0.5882352941176471",
         "5.0",
         "98.0",
         "2.0",
         "204.0"
        ],
        [
         "max",
         "38.3",
         "0.9176470588235294",
         "9.09",
         "120.0",
         "3.0",
         "341.0"
        ]
       ],
       "shape": {
        "columns": 6,
        "rows": 8
       }
      },
      "text/html": [
       "<div>\n",
       "<style scoped>\n",
       "    .dataframe tbody tr th:only-of-type {\n",
       "        vertical-align: middle;\n",
       "    }\n",
       "\n",
       "    .dataframe tbody tr th {\n",
       "        vertical-align: top;\n",
       "    }\n",
       "\n",
       "    .dataframe thead th {\n",
       "        text-align: right;\n",
       "    }\n",
       "</style>\n",
       "<table border=\"1\" class=\"dataframe\">\n",
       "  <thead>\n",
       "    <tr style=\"text-align: right;\">\n",
       "      <th></th>\n",
       "      <th>BMI</th>\n",
       "      <th>BP</th>\n",
       "      <th>TC</th>\n",
       "      <th>BGU</th>\n",
       "      <th>FDR</th>\n",
       "      <th>Target</th>\n",
       "    </tr>\n",
       "  </thead>\n",
       "  <tbody>\n",
       "    <tr>\n",
       "      <th>count</th>\n",
       "      <td>427.000000</td>\n",
       "      <td>427.000000</td>\n",
       "      <td>427.000000</td>\n",
       "      <td>427.000000</td>\n",
       "      <td>427.000000</td>\n",
       "      <td>427.000000</td>\n",
       "    </tr>\n",
       "    <tr>\n",
       "      <th>mean</th>\n",
       "      <td>26.228571</td>\n",
       "      <td>0.465656</td>\n",
       "      <td>4.042225</td>\n",
       "      <td>90.997658</td>\n",
       "      <td>1.063232</td>\n",
       "      <td>149.869588</td>\n",
       "    </tr>\n",
       "    <tr>\n",
       "      <th>std</th>\n",
       "      <td>4.245929</td>\n",
       "      <td>0.160200</td>\n",
       "      <td>1.276983</td>\n",
       "      <td>10.656722</td>\n",
       "      <td>0.829747</td>\n",
       "      <td>75.819459</td>\n",
       "    </tr>\n",
       "    <tr>\n",
       "      <th>min</th>\n",
       "      <td>18.000000</td>\n",
       "      <td>0.082353</td>\n",
       "      <td>2.000000</td>\n",
       "      <td>66.000000</td>\n",
       "      <td>0.000000</td>\n",
       "      <td>25.000000</td>\n",
       "    </tr>\n",
       "    <tr>\n",
       "      <th>25%</th>\n",
       "      <td>23.150000</td>\n",
       "      <td>0.347059</td>\n",
       "      <td>3.000000</td>\n",
       "      <td>83.500000</td>\n",
       "      <td>0.000000</td>\n",
       "      <td>85.500000</td>\n",
       "    </tr>\n",
       "    <tr>\n",
       "      <th>50%</th>\n",
       "      <td>25.700000</td>\n",
       "      <td>0.447059</td>\n",
       "      <td>4.000000</td>\n",
       "      <td>91.000000</td>\n",
       "      <td>1.000000</td>\n",
       "      <td>139.000000</td>\n",
       "    </tr>\n",
       "    <tr>\n",
       "      <th>75%</th>\n",
       "      <td>29.100000</td>\n",
       "      <td>0.588235</td>\n",
       "      <td>5.000000</td>\n",
       "      <td>98.000000</td>\n",
       "      <td>2.000000</td>\n",
       "      <td>204.000000</td>\n",
       "    </tr>\n",
       "    <tr>\n",
       "      <th>max</th>\n",
       "      <td>38.300000</td>\n",
       "      <td>0.917647</td>\n",
       "      <td>9.090000</td>\n",
       "      <td>120.000000</td>\n",
       "      <td>3.000000</td>\n",
       "      <td>341.000000</td>\n",
       "    </tr>\n",
       "  </tbody>\n",
       "</table>\n",
       "</div>"
      ],
      "text/plain": [
       "              BMI          BP          TC         BGU         FDR      Target\n",
       "count  427.000000  427.000000  427.000000  427.000000  427.000000  427.000000\n",
       "mean    26.228571    0.465656    4.042225   90.997658    1.063232  149.869588\n",
       "std      4.245929    0.160200    1.276983   10.656722    0.829747   75.819459\n",
       "min     18.000000    0.082353    2.000000   66.000000    0.000000   25.000000\n",
       "25%     23.150000    0.347059    3.000000   83.500000    0.000000   85.500000\n",
       "50%     25.700000    0.447059    4.000000   91.000000    1.000000  139.000000\n",
       "75%     29.100000    0.588235    5.000000   98.000000    2.000000  204.000000\n",
       "max     38.300000    0.917647    9.090000  120.000000    3.000000  341.000000"
      ]
     },
     "execution_count": 17,
     "metadata": {},
     "output_type": "execute_result"
    }
   ],
   "source": [
    "scale_feature = 'BP'\n",
    "\n",
    "#the minimum value with space for outliers\n",
    "MIN_BP = 55\n",
    "\n",
    "#the maximum value with space for outliers\n",
    "MAX_BP = 140\n",
    "\n",
    "#scale features\n",
    "data_frame[scale_feature] = [(X - MIN_BP) / (MAX_BP - MIN_BP) for X in data_frame[scale_feature]]\n",
    "\n",
    "data_frame.describe()"
   ]
  },
  {
   "cell_type": "code",
   "execution_count": 18,
   "metadata": {},
   "outputs": [
    {
     "data": {
      "application/vnd.microsoft.datawrangler.viewer.v0+json": {
       "columns": [
        {
         "name": "index",
         "rawType": "object",
         "type": "string"
        },
        {
         "name": "BMI",
         "rawType": "float64",
         "type": "float"
        },
        {
         "name": "BP",
         "rawType": "float64",
         "type": "float"
        },
        {
         "name": "TC",
         "rawType": "float64",
         "type": "float"
        },
        {
         "name": "BGU",
         "rawType": "float64",
         "type": "float"
        },
        {
         "name": "FDR",
         "rawType": "float64",
         "type": "float"
        },
        {
         "name": "Target",
         "rawType": "float64",
         "type": "float"
        }
       ],
       "ref": "8be844f1-6703-41f1-b8a9-6180f1179d06",
       "rows": [
        [
         "count",
         "427.0",
         "427.0",
         "427.0",
         "427.0",
         "427.0",
         "427.0"
        ],
        [
         "mean",
         "0.4491428571428571",
         "0.4656558754649401",
         "4.042224824355972",
         "90.9976580796253",
         "1.063231850117096",
         "149.86958759097257"
        ],
        [
         "std",
         "0.1698371650803257",
         "0.1601997122587422",
         "1.2769827503300586",
         "10.656721925717347",
         "0.8297473172228927",
         "75.81945852812956"
        ],
        [
         "min",
         "0.12",
         "0.08235294117647059",
         "2.0",
         "66.0",
         "0.0",
         "25.0"
        ],
        [
         "25%",
         "0.326",
         "0.34705882352941175",
         "3.0",
         "83.5",
         "0.0",
         "85.5"
        ],
        [
         "50%",
         "0.428",
         "0.4470588235294118",
         "4.0",
         "91.0",
         "1.0",
         "139.0"
        ],
        [
         "75%",
         "0.5640000000000001",
         "0.5882352941176471",
         "5.0",
         "98.0",
         "2.0",
         "204.0"
        ],
        [
         "max",
         "0.9319999999999999",
         "0.9176470588235294",
         "9.09",
         "120.0",
         "3.0",
         "341.0"
        ]
       ],
       "shape": {
        "columns": 6,
        "rows": 8
       }
      },
      "text/html": [
       "<div>\n",
       "<style scoped>\n",
       "    .dataframe tbody tr th:only-of-type {\n",
       "        vertical-align: middle;\n",
       "    }\n",
       "\n",
       "    .dataframe tbody tr th {\n",
       "        vertical-align: top;\n",
       "    }\n",
       "\n",
       "    .dataframe thead th {\n",
       "        text-align: right;\n",
       "    }\n",
       "</style>\n",
       "<table border=\"1\" class=\"dataframe\">\n",
       "  <thead>\n",
       "    <tr style=\"text-align: right;\">\n",
       "      <th></th>\n",
       "      <th>BMI</th>\n",
       "      <th>BP</th>\n",
       "      <th>TC</th>\n",
       "      <th>BGU</th>\n",
       "      <th>FDR</th>\n",
       "      <th>Target</th>\n",
       "    </tr>\n",
       "  </thead>\n",
       "  <tbody>\n",
       "    <tr>\n",
       "      <th>count</th>\n",
       "      <td>427.000000</td>\n",
       "      <td>427.000000</td>\n",
       "      <td>427.000000</td>\n",
       "      <td>427.000000</td>\n",
       "      <td>427.000000</td>\n",
       "      <td>427.000000</td>\n",
       "    </tr>\n",
       "    <tr>\n",
       "      <th>mean</th>\n",
       "      <td>0.449143</td>\n",
       "      <td>0.465656</td>\n",
       "      <td>4.042225</td>\n",
       "      <td>90.997658</td>\n",
       "      <td>1.063232</td>\n",
       "      <td>149.869588</td>\n",
       "    </tr>\n",
       "    <tr>\n",
       "      <th>std</th>\n",
       "      <td>0.169837</td>\n",
       "      <td>0.160200</td>\n",
       "      <td>1.276983</td>\n",
       "      <td>10.656722</td>\n",
       "      <td>0.829747</td>\n",
       "      <td>75.819459</td>\n",
       "    </tr>\n",
       "    <tr>\n",
       "      <th>min</th>\n",
       "      <td>0.120000</td>\n",
       "      <td>0.082353</td>\n",
       "      <td>2.000000</td>\n",
       "      <td>66.000000</td>\n",
       "      <td>0.000000</td>\n",
       "      <td>25.000000</td>\n",
       "    </tr>\n",
       "    <tr>\n",
       "      <th>25%</th>\n",
       "      <td>0.326000</td>\n",
       "      <td>0.347059</td>\n",
       "      <td>3.000000</td>\n",
       "      <td>83.500000</td>\n",
       "      <td>0.000000</td>\n",
       "      <td>85.500000</td>\n",
       "    </tr>\n",
       "    <tr>\n",
       "      <th>50%</th>\n",
       "      <td>0.428000</td>\n",
       "      <td>0.447059</td>\n",
       "      <td>4.000000</td>\n",
       "      <td>91.000000</td>\n",
       "      <td>1.000000</td>\n",
       "      <td>139.000000</td>\n",
       "    </tr>\n",
       "    <tr>\n",
       "      <th>75%</th>\n",
       "      <td>0.564000</td>\n",
       "      <td>0.588235</td>\n",
       "      <td>5.000000</td>\n",
       "      <td>98.000000</td>\n",
       "      <td>2.000000</td>\n",
       "      <td>204.000000</td>\n",
       "    </tr>\n",
       "    <tr>\n",
       "      <th>max</th>\n",
       "      <td>0.932000</td>\n",
       "      <td>0.917647</td>\n",
       "      <td>9.090000</td>\n",
       "      <td>120.000000</td>\n",
       "      <td>3.000000</td>\n",
       "      <td>341.000000</td>\n",
       "    </tr>\n",
       "  </tbody>\n",
       "</table>\n",
       "</div>"
      ],
      "text/plain": [
       "              BMI          BP          TC         BGU         FDR      Target\n",
       "count  427.000000  427.000000  427.000000  427.000000  427.000000  427.000000\n",
       "mean     0.449143    0.465656    4.042225   90.997658    1.063232  149.869588\n",
       "std      0.169837    0.160200    1.276983   10.656722    0.829747   75.819459\n",
       "min      0.120000    0.082353    2.000000   66.000000    0.000000   25.000000\n",
       "25%      0.326000    0.347059    3.000000   83.500000    0.000000   85.500000\n",
       "50%      0.428000    0.447059    4.000000   91.000000    1.000000  139.000000\n",
       "75%      0.564000    0.588235    5.000000   98.000000    2.000000  204.000000\n",
       "max      0.932000    0.917647    9.090000  120.000000    3.000000  341.000000"
      ]
     },
     "execution_count": 18,
     "metadata": {},
     "output_type": "execute_result"
    }
   ],
   "source": [
    "scale_feature = 'BMI'\n",
    "\n",
    "#the minimum value with space for outliers\n",
    "MIN_BMI = 15\n",
    "\n",
    "#the maximum value with space for outliers\n",
    "MAX_BMI = 40\n",
    "\n",
    "#scale features\n",
    "data_frame[scale_feature] = [(X - MIN_BMI) / (MAX_BMI - MIN_BMI) for X in data_frame[scale_feature]]\n",
    "\n",
    "data_frame.describe()"
   ]
  },
  {
   "cell_type": "code",
   "execution_count": 19,
   "metadata": {},
   "outputs": [
    {
     "data": {
      "application/vnd.microsoft.datawrangler.viewer.v0+json": {
       "columns": [
        {
         "name": "index",
         "rawType": "object",
         "type": "string"
        },
        {
         "name": "BMI",
         "rawType": "float64",
         "type": "float"
        },
        {
         "name": "BP",
         "rawType": "float64",
         "type": "float"
        },
        {
         "name": "TC",
         "rawType": "float64",
         "type": "float"
        },
        {
         "name": "BGU",
         "rawType": "float64",
         "type": "float"
        },
        {
         "name": "FDR",
         "rawType": "float64",
         "type": "float"
        },
        {
         "name": "Target",
         "rawType": "float64",
         "type": "float"
        }
       ],
       "ref": "a7bc2621-b991-40ed-bcf6-eb435fa341b8",
       "rows": [
        [
         "count",
         "427.0",
         "427.0",
         "427.0",
         "427.0",
         "427.0",
         "427.0"
        ],
        [
         "mean",
         "0.4491428571428571",
         "0.4656558754649401",
         "4.042224824355972",
         "0.46361507345113906",
         "1.063231850117096",
         "149.86958759097257"
        ],
        [
         "std",
         "0.1698371650803257",
         "0.1601997122587422",
         "1.2769827503300586",
         "0.09687929023379406",
         "0.8297473172228927",
         "75.81945852812956"
        ],
        [
         "min",
         "0.12",
         "0.08235294117647059",
         "2.0",
         "0.23636363636363636",
         "0.0",
         "25.0"
        ],
        [
         "25%",
         "0.326",
         "0.34705882352941175",
         "3.0",
         "0.3954545454545455",
         "0.0",
         "85.5"
        ],
        [
         "50%",
         "0.428",
         "0.4470588235294118",
         "4.0",
         "0.4636363636363636",
         "1.0",
         "139.0"
        ],
        [
         "75%",
         "0.5640000000000001",
         "0.5882352941176471",
         "5.0",
         "0.5272727272727272",
         "2.0",
         "204.0"
        ],
        [
         "max",
         "0.9319999999999999",
         "0.9176470588235294",
         "9.09",
         "0.7272727272727273",
         "3.0",
         "341.0"
        ]
       ],
       "shape": {
        "columns": 6,
        "rows": 8
       }
      },
      "text/html": [
       "<div>\n",
       "<style scoped>\n",
       "    .dataframe tbody tr th:only-of-type {\n",
       "        vertical-align: middle;\n",
       "    }\n",
       "\n",
       "    .dataframe tbody tr th {\n",
       "        vertical-align: top;\n",
       "    }\n",
       "\n",
       "    .dataframe thead th {\n",
       "        text-align: right;\n",
       "    }\n",
       "</style>\n",
       "<table border=\"1\" class=\"dataframe\">\n",
       "  <thead>\n",
       "    <tr style=\"text-align: right;\">\n",
       "      <th></th>\n",
       "      <th>BMI</th>\n",
       "      <th>BP</th>\n",
       "      <th>TC</th>\n",
       "      <th>BGU</th>\n",
       "      <th>FDR</th>\n",
       "      <th>Target</th>\n",
       "    </tr>\n",
       "  </thead>\n",
       "  <tbody>\n",
       "    <tr>\n",
       "      <th>count</th>\n",
       "      <td>427.000000</td>\n",
       "      <td>427.000000</td>\n",
       "      <td>427.000000</td>\n",
       "      <td>427.000000</td>\n",
       "      <td>427.000000</td>\n",
       "      <td>427.000000</td>\n",
       "    </tr>\n",
       "    <tr>\n",
       "      <th>mean</th>\n",
       "      <td>0.449143</td>\n",
       "      <td>0.465656</td>\n",
       "      <td>4.042225</td>\n",
       "      <td>0.463615</td>\n",
       "      <td>1.063232</td>\n",
       "      <td>149.869588</td>\n",
       "    </tr>\n",
       "    <tr>\n",
       "      <th>std</th>\n",
       "      <td>0.169837</td>\n",
       "      <td>0.160200</td>\n",
       "      <td>1.276983</td>\n",
       "      <td>0.096879</td>\n",
       "      <td>0.829747</td>\n",
       "      <td>75.819459</td>\n",
       "    </tr>\n",
       "    <tr>\n",
       "      <th>min</th>\n",
       "      <td>0.120000</td>\n",
       "      <td>0.082353</td>\n",
       "      <td>2.000000</td>\n",
       "      <td>0.236364</td>\n",
       "      <td>0.000000</td>\n",
       "      <td>25.000000</td>\n",
       "    </tr>\n",
       "    <tr>\n",
       "      <th>25%</th>\n",
       "      <td>0.326000</td>\n",
       "      <td>0.347059</td>\n",
       "      <td>3.000000</td>\n",
       "      <td>0.395455</td>\n",
       "      <td>0.000000</td>\n",
       "      <td>85.500000</td>\n",
       "    </tr>\n",
       "    <tr>\n",
       "      <th>50%</th>\n",
       "      <td>0.428000</td>\n",
       "      <td>0.447059</td>\n",
       "      <td>4.000000</td>\n",
       "      <td>0.463636</td>\n",
       "      <td>1.000000</td>\n",
       "      <td>139.000000</td>\n",
       "    </tr>\n",
       "    <tr>\n",
       "      <th>75%</th>\n",
       "      <td>0.564000</td>\n",
       "      <td>0.588235</td>\n",
       "      <td>5.000000</td>\n",
       "      <td>0.527273</td>\n",
       "      <td>2.000000</td>\n",
       "      <td>204.000000</td>\n",
       "    </tr>\n",
       "    <tr>\n",
       "      <th>max</th>\n",
       "      <td>0.932000</td>\n",
       "      <td>0.917647</td>\n",
       "      <td>9.090000</td>\n",
       "      <td>0.727273</td>\n",
       "      <td>3.000000</td>\n",
       "      <td>341.000000</td>\n",
       "    </tr>\n",
       "  </tbody>\n",
       "</table>\n",
       "</div>"
      ],
      "text/plain": [
       "              BMI          BP          TC         BGU         FDR      Target\n",
       "count  427.000000  427.000000  427.000000  427.000000  427.000000  427.000000\n",
       "mean     0.449143    0.465656    4.042225    0.463615    1.063232  149.869588\n",
       "std      0.169837    0.160200    1.276983    0.096879    0.829747   75.819459\n",
       "min      0.120000    0.082353    2.000000    0.236364    0.000000   25.000000\n",
       "25%      0.326000    0.347059    3.000000    0.395455    0.000000   85.500000\n",
       "50%      0.428000    0.447059    4.000000    0.463636    1.000000  139.000000\n",
       "75%      0.564000    0.588235    5.000000    0.527273    2.000000  204.000000\n",
       "max      0.932000    0.917647    9.090000    0.727273    3.000000  341.000000"
      ]
     },
     "execution_count": 19,
     "metadata": {},
     "output_type": "execute_result"
    }
   ],
   "source": [
    "scale_feature = 'BGU'\n",
    "\n",
    "#the minimum value with space for outliers\n",
    "MIN_BGU = 40\n",
    "\n",
    "#the maximum value with space for outliers\n",
    "MAX_BGU = 150\n",
    "\n",
    "#scale features\n",
    "data_frame[scale_feature] = [(X - MIN_BGU) / (MAX_BGU - MIN_BGU) for X in data_frame[scale_feature]]\n",
    "\n",
    "data_frame.describe()"
   ]
  },
  {
   "cell_type": "markdown",
   "metadata": {},
   "source": [
    "> [!important]\n",
    "> You need to save the calculations for each dataset you scale for scaling new values for prediction. Use [2.1.2.data.records.md](2.1.2.data.records.md) to record this information."
   ]
  },
  {
   "cell_type": "markdown",
   "metadata": {},
   "source": [
    "#### Save the wrangled data to CSV"
   ]
  },
  {
   "cell_type": "code",
   "execution_count": 20,
   "metadata": {},
   "outputs": [],
   "source": [
    "data_frame.to_csv('../2.2.Feature_Engineering/2.2.1.wrangled_data.csv', index=False)"
   ]
  }
 ],
 "metadata": {
  "kernelspec": {
   "display_name": "Python 3",
   "language": "python",
   "name": "python3"
  },
  "language_info": {
   "codemirror_mode": {
    "name": "ipython",
    "version": 3
   },
   "file_extension": ".py",
   "mimetype": "text/x-python",
   "name": "python",
   "nbconvert_exporter": "python",
   "pygments_lexer": "ipython3",
   "version": "3.12.1"
  }
 },
 "nbformat": 4,
 "nbformat_minor": 2
}
