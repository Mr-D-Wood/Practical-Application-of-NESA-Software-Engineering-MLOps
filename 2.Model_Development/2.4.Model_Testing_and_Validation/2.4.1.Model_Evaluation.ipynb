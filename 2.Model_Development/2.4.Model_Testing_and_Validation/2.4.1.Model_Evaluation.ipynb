{
 "cells": [
  {
   "cell_type": "markdown",
   "metadata": {},
   "source": [
    "[Home](../../README.md)\n",
    "\n",
    "### Model Evaluation\n",
    "\n",
    "This is a demonstration of evaluating a model."
   ]
  },
  {
   "cell_type": "markdown",
   "metadata": {},
   "source": [
    "#### Step 1\n",
    "\n",
    "Load the required dependencies.\n"
   ]
  },
  {
   "cell_type": "code",
   "execution_count": 1,
   "metadata": {},
   "outputs": [],
   "source": [
    "# Import frameworks\n",
    "import numpy as np\n",
    "import pandas as pd\n",
    "import matplotlib.pyplot as plt\n",
    "plt.style.use('../../style_Matplotlib_charts.mplstyle')\n",
    "from sklearn.linear_model import LinearRegression\n",
    "import pickle"
   ]
  },
  {
   "cell_type": "markdown",
   "metadata": {},
   "source": [
    "####  Step 2\n",
    "\n",
    "Load the model for testing"
   ]
  },
  {
   "cell_type": "code",
   "execution_count": 2,
   "metadata": {},
   "outputs": [],
   "source": [
    "filename = 'my_saved_model_v1.sav'\n",
    "model_A = pickle.load(open(filename, 'rb'))\n"
   ]
  },
  {
   "cell_type": "markdown",
   "metadata": {},
   "source": [
    "(Optional) Load a second model if you want to do comparative testing"
   ]
  },
  {
   "cell_type": "code",
   "execution_count": null,
   "metadata": {},
   "outputs": [],
   "source": [
    "filename = 'my_saved_model_v1.sav'\n",
    "model_B = pickle.load(open(filename, 'rb'))"
   ]
  },
  {
   "cell_type": "markdown",
   "metadata": {},
   "source": [
    "####  Step 3\n",
    "Open and parse the test data CSV file and store the data as variable array data objects."
   ]
  },
  {
   "cell_type": "code",
   "execution_count": 3,
   "metadata": {},
   "outputs": [],
   "source": [
    "x_col = 'BMI'\n",
    "testing_data = pd.read_csv('2.4.1.testing_data.csv')\n",
    "x_test = np.array(testing_data[x_col]).reshape(-1,1)\n",
    "y_test = np.array(testing_data['Target'])"
   ]
  },
  {
   "cell_type": "markdown",
   "metadata": {},
   "source": [
    "#### Step 5\n",
    "\n",
    "Plot the test data features, targets and linear regression model to visually evaluate the model."
   ]
  },
  {
   "cell_type": "code",
   "execution_count": 4,
   "metadata": {},
   "outputs": [
    {
     "data": {
      "image/png": "[encoded data removed]",
      "text/plain": [
       "<Figure size 640x480 with 1 Axes>"
      ]
     },
     "metadata": {},
     "output_type": "display_data"
    }
   ],
   "source": [
    "y_pred = model_A.predict(x_test)\n",
    "plt.scatter(x_test, y_pred)\n",
    "plt.scatter(x_test, y_test, marker='x', c='r')\n",
    "plt.title(\"NESA Course Specifications Data\")\n",
    "plt.ylabel(f'Testing {x_col}')\n",
    "plt.xlabel(f'Testing Target')\n",
    "plt.show()"
   ]
  },
  {
   "cell_type": "markdown",
   "metadata": {},
   "source": [
    "#### Step 6\n",
    "\n",
    "Use the 'score' method of the `LinearRegression` class to return a score based evaluation of the models accuracy or performance."
   ]
  },
  {
   "cell_type": "code",
   "execution_count": 5,
   "metadata": {},
   "outputs": [
    {
     "name": "stdout",
     "output_type": "stream",
     "text": [
      "Training data score: 0.2566918320917717\n"
     ]
    }
   ],
   "source": [
    "test_score = model_A.score(x_test, y_test)\n",
    "print(f'Training data score: {test_score}')"
   ]
  },
  {
   "cell_type": "markdown",
   "metadata": {},
   "source": [
    "#### Step 7\n",
    "\n",
    "Manually calculate and evaluate the 'loss' and 'cost' of the model using the test data."
   ]
  },
  {
   "cell_type": "code",
   "execution_count": 6,
   "metadata": {},
   "outputs": [
    {
     "name": "stdout",
     "output_type": "stream",
     "text": [
      "      DoB    DoT  Predicted result        Loss\n",
      "0   0.300  185.0        114.972023   4904.2009\n",
      "1   0.332   94.0        121.601820    761.7600\n",
      "2   0.544  265.0        165.524226   9896.2704\n",
      "3   0.932  259.0        245.910515    171.3481\n",
      "4   0.172  134.0         88.452835   2074.8025\n",
      "5   0.492  210.0        154.750806   3052.5625\n",
      "6   0.656  293.0        188.728516  10872.2329\n",
      "7   0.864  258.0        231.822197    685.3924\n",
      "8   0.472  191.0        150.607182   1631.3521\n",
      "9   0.640  280.0        185.413617   8947.2681\n",
      "10  0.224  115.0         99.226255    248.6929\n",
      "11  0.296   64.0        114.143299   2514.0196\n",
      "12  0.508  191.0        158.065704   1084.3849\n",
      "13  0.532  246.0        163.038052   6882.3616\n",
      "14  0.192   49.0         92.596458   1900.9600\n",
      "15  0.440  198.0        143.977385   2918.1604\n",
      "16  0.276   96.0        109.999675    196.0000\n",
      "17  0.368   92.0        129.060342   1373.4436\n",
      "18  0.476  249.0        151.435907   9517.9536\n",
      "19  0.612  166.0        179.612545    185.2321\n",
      "20  0.412  206.0        138.176313   4599.5524\n",
      "21  0.212   96.0         96.740081      0.5476\n",
      "22  0.472  200.0        150.607182   2439.3721\n",
      "23  0.616  103.0        180.441269   5996.9536\n",
      "24  0.404  216.0        136.518864   6317.0704\n",
      "25  0.276  111.0        109.999675      1.0000\n",
      "26  0.320  146.0        119.115646    722.5344\n",
      "27  0.424   31.0        140.662487  12025.3156\n",
      "28  0.284   72.0        111.657125   1572.9156\n",
      "29  0.460   49.0        148.121009   9824.7744\n",
      "30  0.528  262.0        162.209327   9958.0441\n",
      "31  0.208   77.0         95.911357    357.5881\n",
      "32  0.328  190.0        120.773096   4792.7929\n",
      "33  0.316  128.0        118.286922     94.2841\n",
      "34  0.376  131.0        130.717791      0.0784\n",
      "35  0.580  270.0        172.982748   9412.8804\n",
      "36  0.592   90.0        175.468922   7305.1209\n",
      "37  0.532  281.0        163.038052  13914.5616\n",
      "38  0.368   64.0        129.060342   4232.8036\n",
      "39  0.412  190.0        138.176313   2685.3124\n",
      "40  0.500  143.0        156.408255    179.8281\n",
      "41  0.336   78.0        122.430545   1974.0249\n",
      "42  0.280  200.0        110.828400   7951.2889\n",
      "43  0.312   40.0        117.458197   6000.0516\n",
      "44  0.696   95.0        197.015762  10408.0804\n",
      "45  0.248  109.0        104.198603     23.0400\n",
      "46  0.244  183.0        103.369878   6340.9369\n",
      "47  0.604  180.0        177.955095      4.1616\n",
      "48  0.600  220.0        177.126371   1837.8369\n",
      "49  0.548  182.0        166.352951    244.9225\n",
      "50  0.184  142.0         90.939009   2607.1236\n",
      "51  0.552   52.0        167.181675  13266.4324\n",
      "52  0.480  109.0        152.264632   1871.4276\n",
      "53  0.300  103.0        114.972023    143.2809\n",
      "54  0.440   68.0        143.977385   5772.9604\n",
      "55  0.572  296.0        171.325298  15542.6089\n",
      "56  0.212   59.0         96.740081   1424.3076\n",
      "The cost or average loss of this model is 2119.8615298245613\n"
     ]
    }
   ],
   "source": [
    "table = pd.DataFrame({\n",
    "    testing_data.columns[0]: x_test.flatten(),  # Flatten x for easy display\n",
    "    testing_data.columns[1]: y_test,\n",
    "    'Predicted result':model_A.predict(x_test),\n",
    "    'Loss' : abs(model_A.predict(x_test).round(2) - y_test)**2\n",
    "})\n",
    "print(table)\n",
    "cost = 1 / (2 * table.shape[0]) * table['Loss'].sum()\n",
    "\n",
    "print(f\"The cost or average loss of this model is {cost}\")"
   ]
  },
  {
   "cell_type": "markdown",
   "metadata": {},
   "source": [
    "You may want to do some manual predictions to understand your model."
   ]
  },
  {
   "cell_type": "code",
   "execution_count": 7,
   "metadata": {},
   "outputs": [
    {
     "name": "stdout",
     "output_type": "stream",
     "text": [
      "[73.53579139]\n",
      "[259.99883429]\n"
     ]
    }
   ],
   "source": [
    "print(model_A.predict([[0.1]]))\n",
    "print(model_A.predict([[1]]))"
   ]
  },
  {
   "cell_type": "markdown",
   "metadata": {},
   "source": [
    "#### Step 8\n",
    "\n",
    "Evaluate the X axis intercept and gradient or coefficient of your model by using the getter methods to return the intercept and coefficient from my_model() object."
   ]
  },
  {
   "cell_type": "code",
   "execution_count": 8,
   "metadata": {},
   "outputs": [
    {
     "name": "stdout",
     "output_type": "stream",
     "text": [
      "X Axis intercept: 52.81767550827158\n",
      "Coefficient: [207.18115878]\n"
     ]
    }
   ],
   "source": [
    "print(f'X Axis intercept: {model_A.intercept_}')\n",
    "print(f'Coefficient: {model_A.coef_}')"
   ]
  },
  {
   "cell_type": "markdown",
   "metadata": {},
   "source": [
    "#### Step 9. Multiple Variable Linear Regression\n",
    "\n",
    "You should be able to understand the code snippets with less guidelines."
   ]
  },
  {
   "cell_type": "code",
   "execution_count": 9,
   "metadata": {},
   "outputs": [],
   "source": [
    "filename = 'my_saved_model_v2.sav'\n",
    "model_C = pickle.load(open(filename, 'rb'))"
   ]
  },
  {
   "cell_type": "code",
   "execution_count": 10,
   "metadata": {},
   "outputs": [],
   "source": [
    "mx_col = ['BMI','BP','FDR']\n",
    "testing_data = pd.read_csv('2.4.1.testing_data.csv')\n",
    "mx_test = np.array(testing_data[mx_col])\n",
    "my_test = np.array(testing_data['Target'])"
   ]
  },
  {
   "cell_type": "code",
   "execution_count": 11,
   "metadata": {},
   "outputs": [
    {
     "data": {
      "image/png": "[encoded data removed]",
      "text/plain": [
       "<Figure size 1200x300 with 3 Axes>"
      ]
     },
     "metadata": {},
     "output_type": "display_data"
    }
   ],
   "source": [
    "my_pred = model_C.predict(mx_test)\n",
    "\n",
    "# plot predictions and targets vs original features    \n",
    "fig,ax=plt.subplots(1,len(mx_col),figsize=(12,3),sharey=True)\n",
    "for i in range(len(ax)):\n",
    "    ax[i].scatter(mx_test[:,i],my_test, label = 'target')\n",
    "    ax[i].set_xlabel(mx_col[i])\n",
    "    ax[i].scatter(mx_test[:,i],my_pred,color=\"orange\", label = 'predict')\n",
    "    ax[i].set_ylabel(\"Target\"); ax[i].legend();\n",
    "fig.suptitle(\"Diabetes Disease Progress\")\n",
    "plt.show()"
   ]
  },
  {
   "cell_type": "code",
   "execution_count": 12,
   "metadata": {},
   "outputs": [
    {
     "name": "stdout",
     "output_type": "stream",
     "text": [
      "Training data score: 0.37568704708644884\n"
     ]
    }
   ],
   "source": [
    "test_score = model_C.score(mx_test, my_test)\n",
    "print(f'Training data score: {test_score}')"
   ]
  },
  {
   "cell_type": "code",
   "execution_count": 13,
   "metadata": {},
   "outputs": [
    {
     "name": "stdout",
     "output_type": "stream",
     "text": [
      "[42.13384341]\n",
      "[251.69951198]\n"
     ]
    }
   ],
   "source": [
    "print(model_C.predict([[0.1,0.1,0.1]]))\n",
    "print(model_C.predict([[1,0.5,1]]))"
   ]
  },
  {
   "cell_type": "code",
   "execution_count": 14,
   "metadata": {},
   "outputs": [
    {
     "name": "stdout",
     "output_type": "stream",
     "text": [
      "The cost or average loss of this model is 1780.5264096491226\n",
      "      BMI        BP  FDR  Target  Predicted result        Loss\n",
      "0   0.300  0.400000  1.0   185.0        116.040001   4755.4816\n",
      "1   0.332  0.388235  2.0    94.0        132.249248   1463.0625\n",
      "2   0.544  0.388235  1.0   265.0        159.067910  11221.1649\n",
      "3   0.932  0.682353  0.0   259.0        244.567336    208.2249\n",
      "4   0.172  0.317647  0.0   134.0         73.880803   3614.4144\n",
      "5   0.492  0.305882  1.0   210.0        142.145659   4603.6225\n",
      "6   0.656  0.705882  1.0   293.0        208.330281   7169.0089\n",
      "7   0.864  0.682353  2.0   258.0        255.276529      7.3984\n",
      "8   0.472  0.623529  2.0   191.0        179.049261    142.8025\n",
      "9   0.640  0.800000  1.0   280.0        214.036384   4350.7216\n",
      "10  0.224  0.376471  1.0   115.0        100.153584    220.5225\n",
      "11  0.296  0.282353  0.0    64.0         93.069354    845.0649\n",
      "12  0.508  0.517647  2.0   191.0        175.883371    228.6144\n",
      "13  0.532  0.376471  0.0   246.0        144.324115  10338.8224\n",
      "14  0.192  0.388235  1.0    49.0         95.444387   2156.6736\n",
      "15  0.440  0.360824  1.0   198.0        137.765860   3627.6529\n",
      "16  0.276  0.423529  1.0    96.0        113.851554    318.6225\n",
      "17  0.368  0.223529  2.0    92.0        123.709557   1005.5241\n",
      "18  0.476  0.505882  1.0   249.0        157.524603   8368.5904\n",
      "19  0.612  0.635294  0.0   166.0        182.428730    269.9449\n",
      "20  0.412  0.341176  2.0   206.0        142.410099   4043.6881\n",
      "21  0.212  0.227412  1.0    96.0         84.367389    135.2569\n",
      "22  0.472  0.505882  2.0   200.0        168.301659   1004.8900\n",
      "23  0.616  0.352941  0.0   103.0        157.357481   2955.0096\n",
      "24  0.404  0.917647  2.0   216.0        193.627356    500.4169\n",
      "25  0.276  0.400000  0.0   111.0        100.201983    116.6400\n",
      "26  0.320  0.466706  1.0   146.0        125.748864    410.0625\n",
      "27  0.424  0.247059  1.0    31.0        124.480951   8738.5104\n",
      "28  0.284  0.352941  2.0    72.0        120.349033   2337.7225\n",
      "29  0.460  0.494118  0.0    49.0        142.057814   8660.1636\n",
      "30  0.528  0.423529  1.0   262.0        159.400212  10526.7600\n",
      "31  0.208  0.082353  2.0    77.0         81.892652     23.9121\n",
      "32  0.328  0.654941  2.0   190.0        155.891066   1163.4921\n",
      "33  0.316  0.258824  2.0   128.0        117.534908    109.6209\n",
      "34  0.376  0.211765  1.0   131.0        112.580736    339.2964\n",
      "35  0.580  0.894118  0.0   270.0        200.289496   4859.4841\n",
      "36  0.592  0.294118  0.0    90.0        147.645713   3323.5225\n",
      "37  0.532  0.541176  2.0   281.0        182.370858   9727.8769\n",
      "38  0.368  0.329412  2.0    64.0        133.382398   4813.5844\n",
      "39  0.412  0.352941  2.0   190.0        143.484859   2164.1104\n",
      "40  0.500  0.611765  0.0   143.0        160.035362    290.3616\n",
      "41  0.336  0.254941  0.0    78.0         97.795109    392.0400\n",
      "42  0.280  0.458824  2.0   200.0        129.298879   4998.4900\n",
      "43  0.312  0.541176  0.0    40.0        119.606056   6337.7521\n",
      "44  0.696  0.458824  0.0    95.0        181.490214   7480.5201\n",
      "45  0.248  0.341176  0.0   109.0         89.767220    369.7929\n",
      "46  0.244  0.294118  0.0   183.0         84.745185   9653.0625\n",
      "47  0.604  0.270588  1.0   180.0        159.165227    433.8889\n",
      "48  0.600  0.470588  0.0   220.0        165.213104   3001.9441\n",
      "49  0.548  0.494118  1.0   182.0        169.463745    157.2516\n",
      "50  0.184  0.270588  2.0   142.0         94.750847   2232.5625\n",
      "51  0.552  0.666706  0.0    52.0        174.453421  14994.0025\n",
      "52  0.480  0.552941  1.0   109.0        162.546638   2867.6025\n",
      "53  0.300  0.823529  2.0   103.0        166.231417   3998.0329\n",
      "54  0.440  0.435294  2.0    68.0        156.069142   7756.3249\n",
      "55  0.572  0.811765  2.0   296.0        214.320287   6671.6224\n",
      "56  0.212  0.188235  1.0    59.0         80.788438    474.8041\n"
     ]
    }
   ],
   "source": [
    "data = {col: mx_test[:, i] for i, col in enumerate(mx_col)}\n",
    "data['Target'] = my_test\n",
    "data['Predicted result'] = model_C.predict(mx_test)\n",
    "data['Loss'] = abs(model_C.predict(mx_test).round(2) - my_test)**2\n",
    "table = pd.DataFrame(data)\n",
    "\n",
    "cost = 1 / (2 * table.shape[0]) * table['Loss'].sum()\n",
    "print(f\"The cost or average loss of this model is {cost}\")\n",
    "\n",
    "print(table)"
   ]
  },
  {
   "cell_type": "code",
   "execution_count": null,
   "metadata": {},
   "outputs": [],
   "source": [
    "print(f'X Axis intercept: {model_C.intercept_}')\n",
    "print(f'Coefficient: {model_C.coef_}')"
   ]
  },
  {
   "cell_type": "markdown",
   "metadata": {},
   "source": [
    "#### Step 10. Polynomial Linear Regression\n",
    "\n",
    "You should be able to understand the code snippets with less guidelines."
   ]
  },
  {
   "cell_type": "code",
   "execution_count": null,
   "metadata": {},
   "outputs": [],
   "source": [
    "model_filename = 'my_saved_model_v3.sav'\n",
    "poly_filename = 'my_saved_poly_v3.pkl'\n",
    "\n",
    "model_D = pickle.load(open(model_filename, 'rb'))\n",
    "poly = pickle.load(open(poly_filename, 'rb'))"
   ]
  },
  {
   "cell_type": "code",
   "execution_count": null,
   "metadata": {},
   "outputs": [],
   "source": [
    "mx_col = ['BMI']\n",
    "testing_data = pd.read_csv('2.4.1.testing_data.csv')\n",
    "mx_test = np.array(testing_data[mx_col])\n",
    "my_test = np.array(testing_data['Target'])"
   ]
  },
  {
   "cell_type": "code",
   "execution_count": null,
   "metadata": {},
   "outputs": [],
   "source": [
    "poly_features = poly.fit_transform(mx_test)"
   ]
  },
  {
   "cell_type": "code",
   "execution_count": null,
   "metadata": {},
   "outputs": [],
   "source": [
    "y_pred = model_D.predict(poly_features)\n",
    "\n",
    "plt.scatter(x_test, y_pred)\n",
    "plt.scatter(x_test, y_test, marker='x', c='r')\n",
    "plt.title(\"NESA Course Specifications Data\")\n",
    "plt.ylabel(f'Testing {x_col}')\n",
    "plt.xlabel(f'Testing Target')\n",
    "plt.show()"
   ]
  },
  {
   "cell_type": "code",
   "execution_count": null,
   "metadata": {},
   "outputs": [],
   "source": [
    "test_score = model_D.score(poly_features, my_test)\n",
    "print(f'Training data score: {test_score}')"
   ]
  },
  {
   "cell_type": "code",
   "execution_count": null,
   "metadata": {},
   "outputs": [],
   "source": [
    "new_poly_feature = poly.fit_transform([[0.1]])\n",
    "print(model_D.predict(new_poly_feature))"
   ]
  },
  {
   "cell_type": "code",
   "execution_count": null,
   "metadata": {},
   "outputs": [],
   "source": [
    "data = {col: mx_test[:, i] for i, col in enumerate(mx_col)}\n",
    "data['Target'] = my_test\n",
    "data['Predicted result'] = model_D.predict(poly_features)\n",
    "data['Loss'] = abs(model_D.predict(poly_features).round(2) - my_test)**2\n",
    "table = pd.DataFrame(data)\n",
    "\n",
    "cost = 1 / (2 * table.shape[0]) * table['Loss'].sum()\n",
    "print(f\"The cost or average loss of this model is {cost}\")\n",
    "\n",
    "print(table)"
   ]
  },
  {
   "cell_type": "markdown",
   "metadata": {},
   "source": [
    "#### Step 11\n",
    "\n",
    "When your model is ready for operations, move it to the [3.Operations\\3.1.Deploy_Model](\\3.Operations\\3.1.Deploy_Model) folder."
   ]
  }
 ],
 "metadata": {
  "kernelspec": {
   "display_name": "Python 3",
   "language": "python",
   "name": "python3"
  },
  "language_info": {
   "codemirror_mode": {
    "name": "ipython",
    "version": 3
   },
   "file_extension": ".py",
   "mimetype": "text/x-python",
   "name": "python",
   "nbconvert_exporter": "python",
   "pygments_lexer": "ipython3",
   "version": "3.12.1"
  }
 },
 "nbformat": 4,
 "nbformat_minor": 2
}
